{
 "cells": [
  {
   "cell_type": "markdown",
   "metadata": {},
   "source": [
    "# Exocoetidae Notebook\n",
    "## Fish\n",
    "### Specifications\n",
    "- Capteurs\n",
    " - 1 capteur de proximitee 0-5m\n",
    " - 10Dof 3Accel, 3Gyro + 3Magneto + Baro\n",
    " - wifi RSSI (20 ground devices)\n",
    " \n",
    "- performances TBC\n",
    " - Vitesse max           = 1m/s\n",
    " - Vitesse min           = 0m/s\n",
    " - Ryon de braquage min  = 2m\n",
    " - Angle de montee Max   = 20deg\n",
    " - Angle de dessente Max = 20deg\n",
    " \n",
    "## Fish simulator\n",
    "### Specifications\n",
    "- Dimentions de la halle: 120mx20\n",
    "- Zones interdites:\n",
    " - 120mx5m (zones avec des cables suspendus)\n",
    " - 15mx10 (voliere)\n",
    "\n",
    "\n",
    "\n",
    " \n"
   ]
  },
  {
   "cell_type": "code",
   "execution_count": 1,
   "metadata": {
    "collapsed": true
   },
   "outputs": [],
   "source": [
    "import matplotlib\n"
   ]
  }
 ],
 "metadata": {
  "celltoolbar": "Raw Cell Format",
  "kernelspec": {
   "display_name": "Python 3",
   "language": "python",
   "name": "python3"
  },
  "language_info": {
   "codemirror_mode": {
    "name": "ipython",
    "version": 3
   },
   "file_extension": ".py",
   "mimetype": "text/x-python",
   "name": "python",
   "nbconvert_exporter": "python",
   "pygments_lexer": "ipython3",
   "version": "3.6.0"
  }
 },
 "nbformat": 4,
 "nbformat_minor": 2
}
